{
 "cells": [
  {
   "cell_type": "code",
   "execution_count": null,
   "metadata": {},
   "outputs": [],
   "source": [
    "import numpy as np\n",
    "import pandas as pd\n",
    "from scipy import spatial\n",
    "from random import sample\n",
    "import copy\n",
    "import re\n",
    "import nltk\n",
    "from sklearn.metrics.pairwise import cosine_similarity, \n",
    "\n",
    "#import encoding dictionaries. i.e. bert_dict['cat'] = [0.5, -.4, 0.001,...]\n",
    "bert_dict = np.load('bert.npy', allow_pickle = True); bert_dict = bert_dict[()]\n",
    "glove_dict = np.load('glove.npy', allow_pickle = True); glove_dict = glove_dict[()]\n",
    "'''        \n",
    "#glove embeddings for now, will delete later        \n",
    "glove_embeddings = {}\n",
    "with open(\"./top_50000.txt\", 'r', encoding=\"utf8\") as f:\n",
    "    for line in f:\n",
    "        values = line.split()\n",
    "        word = values[0]\n",
    "        tag = nltk.pos_tag([word])[0][1]\n",
    "        if tag in ['NN', 'NNP'] and len(word) != 1 and word.isalpha():\n",
    "            vector = np.asarray(values[1:], \"float32\")\n",
    "            glove_embeddings[word] = vector\n",
    "np.save('glove.npy', glove_embeddings)\n",
    "'''"
   ]
  },
  {
   "cell_type": "code",
   "execution_count": null,
   "metadata": {},
   "outputs": [],
   "source": [
    "#import list of codenames words\n",
    "codenames_words = []\n",
    "with open(\"./codenames_words.txt\", 'r') as f:\n",
    "    for line in f:\n",
    "        codenames_words.append(line.strip())"
   ]
  },
  {
   "cell_type": "code",
   "execution_count": null,
   "metadata": {},
   "outputs": [],
   "source": [
    "#remove codenames words not in embeddings\n",
    "def removeInvalidCodenames(embeddings, codenames_words):\n",
    "    removed_words = []\n",
    "    for item in codenames_words:\n",
    "        if item not in embeddings:\n",
    "            removed_words.append(item)\n",
    "            codenames_words.remove(item)\n",
    "    print('Words removed from codenames are', removed_words, len(removed_words))\n",
    "    return codenames_words\n",
    "\n",
    "codenames_words = removeInvalidCodenames(glove_dict, codenames_words)"
   ]
  },
  {
   "cell_type": "code",
   "execution_count": null,
   "metadata": {},
   "outputs": [],
   "source": [
    "def generate_single_board(codenames_words):\n",
    "    #randomly selects three words from the codenames board\n",
    "    board = sample(codenames_words, 3)\n",
    "    print('The board we will be finding clues for is', board)\n",
    "    return board\n",
    "    \n",
    "def clue_score(embeddings, board, clue):\n",
    "    #generates a score for a single clue given the board\n",
    "    if clue in board: #this makes the score for one of the board words really bad\n",
    "        return -10**6 \n",
    "    score = 0\n",
    "    for board_word in board:\n",
    "        #score += spatial.distance.cosine(embeddings[clue], embeddings[board_word])#1-cosine scoring function\n",
    "        score += np.linalg.norm(embeddings[clue]-embeddings[board_word])\n",
    "    return score\n",
    "    \n",
    "def clue_dict(embeddings, board):\n",
    "    #a dictionary for a given board, where the key is the potential clue and the value is the clue score\n",
    "    score_dict = dict()\n",
    "    for word in embeddings:\n",
    "        score_dict[word] = clue_score(embeddings, board, word)\n",
    "    return score_dict\n",
    "\n",
    "def extract_top_clues(score_dict):\n",
    "    sorted_score_dict = sorted(score_dict.items(), key=lambda x:x[1])\n",
    "    top_ten_clues = [sorted_score_dict[i][0] for i in range(3,3+10)]\n",
    "    print('Top ten clues are', top_ten_clues)\n",
    "\n",
    "board = generate_single_board(codenames_words)\n",
    "score_dict_bert = clue_dict(bert_dict, board)\n",
    "score_dict_glove = clue_dict(glove_dict, board)\n",
    "sorted_score_dict = extract_top_clues(score_dict_bert)\n",
    "sorted_score_dict = extract_top_clues(score_dict_glove)"
   ]
  },
  {
   "cell_type": "code",
   "execution_count": null,
   "metadata": {},
   "outputs": [],
   "source": [
    "print(np.linalg.norm(bert_dict['belt']-bert_dict['kangaroo']))\n",
    "print(np.linalg.norm(bert_dict['belt']-bert_dict['hotel']))\n",
    "print(np.linalg.norm(bert_dict['kangaroo']-bert_dict['hotel']))"
   ]
  },
  {
   "cell_type": "code",
   "execution_count": null,
   "metadata": {},
   "outputs": [],
   "source": [
    "print(spatial.distance.cosine(glove_dict['belt'],glove_dict['kangaroo']))\n",
    "print(spatial.distance.cosine(glove_dict['belt'],glove_dict['hotel']))\n",
    "print(spatial.distance.cosine(glove_dict['kangaroo'],glove_dict['hotel']))"
   ]
  },
  {
   "cell_type": "code",
   "execution_count": null,
   "metadata": {},
   "outputs": [],
   "source": [
    "def generate_single_board(codenames_words):\n",
    "    good = sample(codenames_words, 3)\n",
    "\n",
    "generate_single_example(codenames_words)"
   ]
  }
 ],
 "metadata": {
  "kernelspec": {
   "display_name": "Python 3",
   "language": "python",
   "name": "python3"
  },
  "language_info": {
   "codemirror_mode": {
    "name": "ipython",
    "version": 3
   },
   "file_extension": ".py",
   "mimetype": "text/x-python",
   "name": "python",
   "nbconvert_exporter": "python",
   "pygments_lexer": "ipython3",
   "version": "3.7.4"
  }
 },
 "nbformat": 4,
 "nbformat_minor": 4
}
