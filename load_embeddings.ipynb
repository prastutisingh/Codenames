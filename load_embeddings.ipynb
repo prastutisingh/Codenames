{
 "cells": [
  {
   "cell_type": "code",
   "execution_count": null,
   "metadata": {},
   "outputs": [],
   "source": [
    "import numpy as np\n",
    "import pandas as pd\n",
    "from scipy import spatial\n",
    "from random import sample\n",
    "import copy\n",
    "import re\n",
    "import nltk\n",
    "\n",
    "nltk.download('punkt')\n",
    "nltk.download('averaged_perceptron_tagger')"
   ]
  },
  {
   "cell_type": "code",
   "execution_count": null,
   "metadata": {},
   "outputs": [],
   "source": [
    "# Download BERT embeddings into a dictionary\n",
    "from bert_serving.client import BertClient\n",
    "client = BertClient()\n",
    "\n",
    "bert_embeddings = {}\n",
    "\n",
    "with open(\"./top_50000.txt\", 'r', encoding=\"utf8\") as f:\n",
    "    for line in f:\n",
    "        values = line.split()\n",
    "        word = values[0]\n",
    "        tag = nltk.pos_tag([word])[0][1]\n",
    "        if len(word) > 1 and word.isalpha() and tag in ['NN', 'NNP']: \n",
    "            vectors = client.encode([word])\n",
    "            bert_embeddings[word] = vectors[0]\n",
    "\n",
    "# Save BERT dict\n",
    "np.save('bert.npy', bert_embeddings)"
   ]
  },
  {
   "cell_type": "code",
   "execution_count": null,
   "metadata": {},
   "outputs": [],
   "source": [
    "# Download GloVe embeddings into a dictionary\n",
    "glove_embeddings = {}\n",
    "\n",
    "with open(\"./top_50000.txt\", 'r', encoding=\"utf8\") as f:\n",
    "    for line in f:\n",
    "        values = line.split()\n",
    "        word = values[0]\n",
    "        tag = nltk.pos_tag([word])[0][1]\n",
    "        if len(word) > 1 and word.isalpha() and tag in ['NN', 'NNP']: \n",
    "            vector = np.asarray(values[1:], \"float32\")\n",
    "            glove_embeddings[word] = vector\n",
    "\n",
    "# Save GloVe dict\n",
    "np.save('glove.npy', glove_embeddings)"
   ]
  },
  {
   "cell_type": "code",
   "execution_count": null,
   "metadata": {},
   "outputs": [],
   "source": [
    "# To load saved dictionary: \n",
    "glove_dict = np.load('glove.npy', allow_pickle=True)\n",
    "\n",
    "# To access 'cat'\n",
    "glove_dict[()]['cat']"
   ]
  }
 ],
 "metadata": {
  "kernelspec": {
   "display_name": "Python 3",
   "language": "python",
   "name": "python3"
  },
  "language_info": {
   "codemirror_mode": {
    "name": "ipython",
    "version": 3
   },
   "file_extension": ".py",
   "mimetype": "text/x-python",
   "name": "python",
   "nbconvert_exporter": "python",
   "pygments_lexer": "ipython3",
   "version": "3.6.7"
  }
 },
 "nbformat": 4,
 "nbformat_minor": 2
}
