{
 "cells": [
  {
   "cell_type": "markdown",
   "metadata": {},
   "source": [
    "The purpose of this script is to see what fine-tuning the GloVe embedding is like - how can we visualize changes, how different types of data lead to different representations, and how this manifests itself in clues. For example, we will have original GloVe, fine-tuned GloVe, and compare the distribution of clues. Questions for consideration:\n",
    "1. How can we visualize and understand the impact on GloVe? Improvements in the loss function, histogram of components\n",
    "2. Are we fine tuning all of GloVe? Or only the 180 words that are in our boardgame?"
   ]
  },
  {
   "cell_type": "markdown",
   "metadata": {},
   "source": [
    "As a first attempt, lets just import GloVe as exists, add some random noise, and see how this effects our predictions?"
   ]
  },
  {
   "cell_type": "code",
   "execution_count": 7,
   "metadata": {},
   "outputs": [],
   "source": [
    "# Same as before, import top 50000 words from GloVe\n",
    "import copy\n",
    "from random import random\n",
    "import matplotlib.pyplot as plt\n",
    "import numpy as np\n",
    "import pandas as pd\n",
    "from scipy import spatial\n",
    "embeddings_all = {}\n",
    "with open(\"./top_50000.txt\", 'r', encoding=\"utf8\") as f:\n",
    "    for line in f:\n",
    "        values = line.split()\n",
    "        word = values[0]\n",
    "        if len(word) > 1: \n",
    "            vector = np.asarray(values[1:], \"float32\")\n",
    "            embeddings_all[word] = vector"
   ]
  },
  {
   "cell_type": "code",
   "execution_count": 8,
   "metadata": {},
   "outputs": [],
   "source": [
    "# Same as before, generates a list of all the codenames words\n",
    "codenames_words = []\n",
    "with open(\"./codenames_words.txt\", 'r') as f:\n",
    "    for line in f:\n",
    "        codenames_words.append(line.strip())"
   ]
  },
  {
   "cell_type": "code",
   "execution_count": 9,
   "metadata": {},
   "outputs": [],
   "source": [
    "# Same as before, chooses a smaller subset of the original 50000 embeddings. Also, add codenames words\n",
    "def embeddings_size(embeddings_size, embeddings_all):\n",
    "    #embeddings_size is the length of the subset of embeddings\n",
    "    #embeddings_all is the embeddings from 50k top words\n",
    "    embeddings = {}\n",
    "    for x in list(embeddings_all)[0:embeddings_size]:\n",
    "        embeddings[x] = embeddings_all[x]\n",
    "    \n",
    "    #adds words from codenames that don't make it in the top XX words\n",
    "    for item in codenames_words:\n",
    "        if item not in embeddings:\n",
    "            embeddings[item] = embeddings_all[item]\n",
    "            \n",
    "    return embeddings"
   ]
  },
  {
   "cell_type": "code",
   "execution_count": 15,
   "metadata": {},
   "outputs": [],
   "source": [
    "# Modify embeddings. This will involve modifying only the codenames embeddings, at first with a random number\n",
    "def modify_embeddings(embeddings):\n",
    "    new_embeddings = copy.deepcopy(embeddings) #need a deep copy to make new embeddings, otherwise both dictionaries will change when we modify one\n",
    "    for key in new_embeddings:\n",
    "        if key in codenames_words:\n",
    "            new_embeddings[key] += random()\n",
    "            #this will only slightly modify embeddings of key codenames words \n",
    "\n",
    "    return new_embeddings"
   ]
  },
  {
   "cell_type": "code",
   "execution_count": 24,
   "metadata": {},
   "outputs": [],
   "source": [
    "#Actuall run function defined above!\n",
    "embeddings_10000 = embeddings_size(10000, embeddings_all) #Just as before, embeddings of top 10000 words plus codenames words\n",
    "embeddings_10000_modified  = modify_embeddings(embeddings_10000) #Now, add random noise to the representation of the codenames words"
   ]
  },
  {
   "cell_type": "code",
   "execution_count": 25,
   "metadata": {},
   "outputs": [
    {
     "data": {
      "image/png": "[encoded data removed]",
      "text/plain": [
       "<Figure size 2400x240 with 10 Axes>"
      ]
     },
     "metadata": {
      "needs_background": "light"
     },
     "output_type": "display_data"
    }
   ],
   "source": [
    "#This plots histograms of the different components of the GloVe vector for each word before and after noise\n",
    "#Here, orange represents the new modified embeddings, while blue represents the original embeddings\n",
    "fig, axs = plt.subplots(1, 10, sharey=True, figsize=(30, 3), dpi=80,)\n",
    "for i in range(0, 10):\n",
    "    data_original = embeddings_10000[codenames_words[i]]\n",
    "    data_modified = embeddings_10000_modified[codenames_words[i]]\n",
    "    axs[i].hist(data_original, bins=np.arange(-2, 2 + .05, .05)) \n",
    "    axs[i].hist(data_modified, bins=np.arange(-2, 2 + .05, .05)) \n",
    "    axs[i].title.set_text(codenames_words[i])\n",
    "plt.show()"
   ]
  },
  {
   "cell_type": "markdown",
   "metadata": {},
   "source": [
    "Probably at this point we should come up with a nice pipeline to take a .txt file of embeddings and generate and compare clues. For now, I will just copy and paste the remaining code from the data_collection notebook..."
   ]
  },
  {
   "cell_type": "code",
   "execution_count": 27,
   "metadata": {},
   "outputs": [],
   "source": [
    "# Helper Functions\n",
    "\n",
    "#Returns a distance between two vectors ranging between 0 and 1\n",
    "def distance(embeddings, word, reference):\n",
    "    return spatial.distance.cosine(embeddings[word], embeddings[reference])\n",
    "\n",
    "#Returns a list of keys (here words) sorted by their distance from reference\n",
    "def closest_words(embeddings, reference):\n",
    "    return sorted(embeddings.keys(), key=lambda w: distance(embeddings, w, reference))\n",
    "\n",
    "#Returns goodness of an answer. Positive is better?\n",
    "def goodness(embeddings, word, answers, bad):\n",
    "    if word in answers + bad: return -999\n",
    "    return sum([distance(embeddings, word, b) for b in bad]) - 4.0 * sum([distance(embeddings, word, a) \n",
    "                                                                          for a in answers])\n",
    "\n",
    "def minimax(embeddings, word, answers, bad):\n",
    "    if word in answers + bad: return -999\n",
    "    return min([distance(embeddings, word, b) for b in bad]) - max([distance(embeddings, word, a) for a in answers])\n",
    "\n",
    "def candidates(embeddings, answers, bad, size=10):\n",
    "    best = sorted(embeddings.keys(), key=lambda w: -1 * goodness(embeddings, w, answers, bad))\n",
    "    res = [(str(i + 1), \"{0:.2f}\".format(minimax(embeddings, w, answers, bad)), w) \n",
    "           for i, w in enumerate(sorted(best[:250], key=lambda w: -1 * minimax(embeddings, w, answers, bad))[:size])]\n",
    "    \n",
    "    # Modified to only return the top candidates rather than the scores since that's not important\n",
    "    return [c[2] for c in res]"
   ]
  },
  {
   "cell_type": "code",
   "execution_count": 28,
   "metadata": {},
   "outputs": [],
   "source": [
    "# Functions to help with word + scores (not necessary for data collection)...\n",
    "from itertools import zip_longest\n",
    "\n",
    "def grouper(n, iterable, fillvalue=None):\n",
    "    args = [iter(iterable)] * n\n",
    "    return zip_longest(fillvalue=fillvalue, *args)\n",
    "\n",
    "def tabulate(data):\n",
    "    data = list(grouper(10, data))\n",
    "    return data"
   ]
  },
  {
   "cell_type": "code",
   "execution_count": 48,
   "metadata": {},
   "outputs": [],
   "source": [
    "from random import sample\n",
    "    \n",
    "def generate_single_example(codenames_words, embeddings1, embeddings2):\n",
    "    # Generates a single example (good words, bad words, top ten clues)\n",
    "    good = sample(codenames_words, 3)\n",
    "    bad = sample(codenames_words, 6)\n",
    "\n",
    "    clues1 = candidates(embeddings1, good, bad)\n",
    "    clues2 = candidates(embeddings2, good, bad)\n",
    "\n",
    "    print('\\n Good words are', good, '\\n Bad words are', bad, '\\n Clues 1 are', clues1, '\\n Clues 2 are', clues2)"
   ]
  },
  {
   "cell_type": "code",
   "execution_count": 50,
   "metadata": {},
   "outputs": [
    {
     "name": "stdout",
     "output_type": "stream",
     "text": [
      "\n",
      " Good words are ['gas', 'switch', 'king'] \n",
      " Bad words are ['board', 'ketchup', 'wave', 'fork', 'paste', 'shot'] \n",
      " Clues 1 are ['twin', 'ford', 'thus', 'major', 'engine', '200', 'sources', 'price', 'end', 'saving'] \n",
      " Clues 2 are ['dual', 'ge', 'ford', 'series', 'air', 'single', 'twin', 'electric', 'key', 'quest']\n"
     ]
    }
   ],
   "source": [
    "generate_single_example(codenames_words, embeddings_10000, embeddings_10000_modified)"
   ]
  }
 ],
 "metadata": {
  "kernelspec": {
   "display_name": "Python 3",
   "language": "python",
   "name": "python3"
  },
  "language_info": {
   "codemirror_mode": {
    "name": "ipython",
    "version": 3
   },
   "file_extension": ".py",
   "mimetype": "text/x-python",
   "name": "python",
   "nbconvert_exporter": "python",
   "pygments_lexer": "ipython3",
   "version": "3.7.4"
  }
 },
 "nbformat": 4,
 "nbformat_minor": 4
}
