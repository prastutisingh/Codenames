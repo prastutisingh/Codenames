{
 "cells": [
  {
   "cell_type": "code",
   "execution_count": 2,
   "metadata": {},
   "outputs": [],
   "source": [
    "import numpy as np\n",
    "import pandas as pd\n",
    "from scipy import spatial\n",
    "from random import sample\n",
    "import copy\n",
    "import re\n",
    "import nltk\n",
    "from sklearn.metrics.pairwise import cosine_similarity"
   ]
  },
  {
   "cell_type": "code",
   "execution_count": 3,
   "metadata": {},
   "outputs": [],
   "source": [
    "# Import encoding dictionaries. i.e. bert_dict['cat'] = [0.5, -.4, 0.001,...]\n",
    "bert_dict = np.load('bert.npy', allow_pickle = True); bert_dict = bert_dict[()]\n",
    "glove_dict = np.load('glove.npy', allow_pickle = True); glove_dict = glove_dict[()]\n",
    "\n",
    "# Turn BERT into indexable embeddings\n",
    "all_bert_words = list(bert_dict.keys())\n",
    "word_to_idx = dict(zip(all_bert_words, range(len(all_bert_words))))\n",
    "idx_to_word = dict(zip(range(len(all_bert_words)), all_bert_words))\n",
    "\n",
    "# Get indexes for codenames words\n",
    "# codenames_words_idxs = np.array([word_to_idx[word] for word in codenames_words])\n",
    "\n",
    "# Get BERT embeddings as giant matrix\n",
    "bert_embedding = [bert_dict[word] for word in all_bert_words]\n",
    "bert_embedding = np.vstack(bert_embedding) # shape = (42000, 768)"
   ]
  },
  {
   "cell_type": "code",
   "execution_count": 29,
   "metadata": {},
   "outputs": [],
   "source": [
    "def read_data(examples, data): \n",
    "    data_matrix = []\n",
    "    with open(examples) as examples, open(data) as data:\n",
    "        for line1, line2 in zip(examples, data):\n",
    "            input_line_1 = line1.split('.')\n",
    "            good_words = input_line_1[1].strip('\\n').split(',')[:3]\n",
    "            \n",
    "            input_line_2 = line2.split('.')\n",
    "            gold_word = input_line_2[1].strip()\n",
    "            \n",
    "            if input_line_1[0] == input_line_2[0]: \n",
    "                board = [word_to_idx[word.strip()] for word in good_words]\n",
    "                if gold_word == 'No good clues': \n",
    "                    continue\n",
    "            \n",
    "                try: \n",
    "                    data_matrix.append([board, [word_to_idx[gold_word]]])\n",
    "                except: \n",
    "                    continue\n",
    "            else: \n",
    "                print(input_line_1[0])\n",
    "                print(input_line_2[0])\n",
    "                print('Uh oh, misaligment!')\n",
    "                break\n",
    "            \n",
    "    return data_matrix"
   ]
  },
  {
   "cell_type": "code",
   "execution_count": 30,
   "metadata": {
    "scrolled": false
   },
   "outputs": [
    {
     "name": "stdout",
     "output_type": "stream",
     "text": [
      "4\n",
      "0\n",
      "Uh oh, misaligment!\n"
     ]
    },
    {
     "data": {
      "text/plain": [
       "[]"
      ]
     },
     "execution_count": 30,
     "metadata": {},
     "output_type": "execute_result"
    }
   ],
   "source": [
    "read_data('examples.txt', 'data.txt')"
   ]
  },
  {
   "cell_type": "code",
   "execution_count": null,
   "metadata": {},
   "outputs": [],
   "source": []
  }
 ],
 "metadata": {
  "kernelspec": {
   "display_name": "Python 3",
   "language": "python",
   "name": "python3"
  },
  "language_info": {
   "codemirror_mode": {
    "name": "ipython",
    "version": 3
   },
   "file_extension": ".py",
   "mimetype": "text/x-python",
   "name": "python",
   "nbconvert_exporter": "python",
   "pygments_lexer": "ipython3",
   "version": "3.6.7"
  }
 },
 "nbformat": 4,
 "nbformat_minor": 2
}
